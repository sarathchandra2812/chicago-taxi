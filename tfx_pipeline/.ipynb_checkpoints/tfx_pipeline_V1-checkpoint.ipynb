{
 "cells": [],
 "metadata": {
  "environment": {
   "name": "common-cpu.m81",
   "type": "gcloud",
   "uri": "gcr.io/deeplearning-platform-release/base-cpu:m81"
  }
 },
 "nbformat": 4,
 "nbformat_minor": 5
}
